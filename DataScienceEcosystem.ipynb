{
 "cells": [
  {
   "cell_type": "markdown",
   "id": "60da3ef0-3178-48a6-bc55-2c3a5080c6ec",
   "metadata": {},
   "source": [
    "# Data Science Tools and Ecosystem"
   ]
  },
  {
   "cell_type": "markdown",
   "id": "9c220696-2ab1-4422-bc32-c418fa6549f7",
   "metadata": {},
   "source": [
    "## Author\n",
    "Sandro U."
   ]
  },
  {
   "cell_type": "markdown",
   "id": "2e9f3331-c83d-4b3a-882e-9eddcd6a067f",
   "metadata": {},
   "source": [
    "In this notebook, Data Science Tools and Ecosystem are summarized."
   ]
  },
  {
   "cell_type": "markdown",
   "id": "f07c18b1-e293-4ef3-8aef-21bc73a8e95b",
   "metadata": {},
   "source": [
    "**Objectives:**\n",
    "- List popular languages for Data Science\n",
    "- List common libraries used in Data Science\n",
    "- Used some basic Code to illustrate the use of Python within Jupyter Notebooks"
   ]
  },
  {
   "cell_type": "markdown",
   "id": "245a54b1-9ba9-4698-9ca2-f6ba275955db",
   "metadata": {},
   "source": [
    "Some of the popular languages that Data Scientists use are:\n",
    "1. R\n",
    "2. Python\n",
    "3. Julia\n",
    "4. SQL"
   ]
  },
  {
   "cell_type": "markdown",
   "id": "1f71da5c-31c3-45c0-afb4-d83a2bbfcd13",
   "metadata": {},
   "source": [
    "Some of the commonly used libraries used by Data Scientists include:\n",
    "1. SciKit learn\n",
    "2. Pandas\n",
    "3. NumPy"
   ]
  },
  {
   "cell_type": "markdown",
   "id": "ae9f2d11-f919-4dbd-bce9-186f5e1592ec",
   "metadata": {},
   "source": [
    "Data Science Tools|\n",
    "---|\n",
    "Jupyter Notebooks|\n",
    "R Studio |\n",
    "VS Code|"
   ]
  },
  {
   "cell_type": "markdown",
   "id": "cc006793-77b5-450c-9abd-91c0f1eaead6",
   "metadata": {},
   "source": [
    "### Below are a few examples of evaluating arithmetic expressions in Python"
   ]
  },
  {
   "cell_type": "code",
   "execution_count": 8,
   "id": "b064b297-9c2c-4953-829d-bc8aabad8522",
   "metadata": {
    "tags": []
   },
   "outputs": [
    {
     "data": {
      "text/plain": [
       "17"
      ]
     },
     "execution_count": 8,
     "metadata": {},
     "output_type": "execute_result"
    }
   ],
   "source": [
    "# This a simple arithmetic expression to mutiply then add integers\n",
    "(3*4)+5"
   ]
  },
  {
   "cell_type": "code",
   "execution_count": 10,
   "id": "f9d48974-c204-4ece-b1af-bf5312968795",
   "metadata": {
    "tags": []
   },
   "outputs": [
    {
     "data": {
      "text/plain": [
       "3.3333333333333335"
      ]
     },
     "execution_count": 10,
     "metadata": {},
     "output_type": "execute_result"
    }
   ],
   "source": [
    "#This will convert 200 minutes to hours by diving by 60\n",
    "200 / 60"
   ]
  },
  {
   "cell_type": "code",
   "execution_count": null,
   "id": "932b6eb1-aa7d-4ea4-9054-5c70d8c14aa0",
   "metadata": {},
   "outputs": [],
   "source": []
  }
 ],
 "metadata": {
  "kernelspec": {
   "display_name": "Python 3 (ipykernel)",
   "language": "python",
   "name": "python3"
  },
  "language_info": {
   "codemirror_mode": {
    "name": "ipython",
    "version": 3
   },
   "file_extension": ".py",
   "mimetype": "text/x-python",
   "name": "python",
   "nbconvert_exporter": "python",
   "pygments_lexer": "ipython3",
   "version": "3.11.5"
  }
 },
 "nbformat": 4,
 "nbformat_minor": 5
}
